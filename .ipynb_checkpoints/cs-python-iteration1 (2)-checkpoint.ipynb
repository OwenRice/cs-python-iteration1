{
 "cells": [
  {
   "cell_type": "markdown",
   "metadata": {},
   "source": [
    "# Practicing WHILE Loop in Python\n",
    "\n",
    "Remember you can use:\n",
    "\n",
    "WHILE or conditional loops\n",
    "\n",
    "loopVar = <value>\n",
    "while condition :\n",
    "    #indent - do loop stuff\n",
    "    loopVar +=1 # change loop varible or you get an infinite loop!\n",
    "\n",
    "#dedent - loop is done. Do next thing"
   ]
  },
  {
   "cell_type": "markdown",
   "metadata": {},
   "source": [
    "x=0\n",
    "\n",
    "while x<5:\n",
    "\t\n",
    "    print('looping')\n",
    "\n",
    "If we run the above code (don’t) you will find it goes on forever printing looping.  that is because x remains 0 and so is always less than 5. Let’s fix it:\n",
    "\n",
    "\n",
    "x=0 \n",
    "while x<5: \n",
    "\tprint('looping')\n",
    "    #change the loop variable\n",
    "\tx=x+1 \n",
    "\n",
    "Now try running the above code."
   ]
  },
  {
   "cell_type": "code",
   "execution_count": 1,
   "metadata": {},
   "outputs": [
    {
     "name": "stdout",
     "output_type": "stream",
     "text": [
      "looping\n",
      "looping\n",
      "looping\n",
      "looping\n",
      "looping\n"
     ]
    }
   ],
   "source": [
    "x=0 \n",
    "while x<5: \n",
    "\tprint('looping')\n",
    "    #change the loop variable\n",
    "\tx=x+1 \n",
    "    "
   ]
  },
  {
   "cell_type": "markdown",
   "metadata": {},
   "source": [
    "## Task 1: Write a program that asks for a password and keeps asking until the correct password, apple is entered and then says Accepted"
   ]
  },
  {
   "cell_type": "code",
   "execution_count": null,
   "metadata": {},
   "outputs": [],
   "source": [
    "password = \n",
    "while n != 1:\n",
    "    "
   ]
  },
  {
   "cell_type": "code",
   "execution_count": null,
   "metadata": {},
   "outputs": [],
   "source": [
    "def primeTest(num):\n",
    "    \n",
    "    #hint: start by assuming the number IS a prime\n",
    "    isPrime = True\n",
    "    \n",
    "    #write your code using a loop to test whether a number is a prime\n",
    "    #hint: when is a number NOT a prime??\n",
    "    \n",
    "    return "
   ]
  },
  {
   "cell_type": "markdown",
   "metadata": {},
   "source": [
    "## Task 2: Write a program that display all the prime numbers less than 100 using while loop"
   ]
  },
  {
   "cell_type": "code",
   "execution_count": null,
   "metadata": {},
   "outputs": [],
   "source": [
    "#test the function\n",
    "assert  primeTest(17), \"error testing 17 is prime\""
   ]
  },
  {
   "cell_type": "markdown",
   "metadata": {},
   "source": [
    "## Task 3: The sequence 1,4,9,16,25 is made up of square numbers. Write a program that writes out all the square numbers under 500."
   ]
  },
  {
   "cell_type": "code",
   "execution_count": null,
   "metadata": {},
   "outputs": [],
   "source": [
    "# write your code here\n"
   ]
  },
  {
   "cell_type": "markdown",
   "metadata": {},
   "source": [
    "## Task 4. Write a program to simulate throwing a die until 6 is thrown. The program outputs the average number of throws it took to get 6"
   ]
  },
  {
   "cell_type": "code",
   "execution_count": null,
   "metadata": {},
   "outputs": [],
   "source": [
    "# why do we need to use randowm library?\n",
    "import random\n",
    "totalThrows = 0\n",
    "\n",
    "# write your code here\n"
   ]
  },
  {
   "cell_type": "markdown",
   "metadata": {},
   "source": [
    "## Extension task\n",
    "Scrabble is a game where players get points by spelling words. Words are scored by adding together the point values of each individual letter.Define a function scrabble_score that takes a string word as input and returns the equivalent scrabble score for that word."
   ]
  },
  {
   "cell_type": "code",
   "execution_count": null,
   "metadata": {},
   "outputs": [],
   "source": [
    "score = {\"a\": 1, \"c\": 3, \"b\": 3, \"e\": 1, \"d\": 2, \"g\": 2,\n",
    "         \"f\": 4, \"i\": 1, \"h\": 4, \"k\": 5, \"j\": 8, \"m\": 3,\n",
    "         \"l\": 1, \"o\": 1, \"n\": 1, \"q\": 10, \"p\": 3, \"s\": 1,\n",
    "         \"r\": 1, \"u\": 1, \"t\": 1, \"w\": 4, \"v\": 4, \"y\": 4,\n",
    "         \"x\": 8, \"z\": 10}\n",
    "\n",
    "# write your code below\n"
   ]
  }
 ],
 "metadata": {
  "kernelspec": {
   "display_name": "Python 3",
   "language": "python",
   "name": "python3"
  },
  "language_info": {
   "codemirror_mode": {
    "name": "ipython",
    "version": 3
   },
   "file_extension": ".py",
   "mimetype": "text/x-python",
   "name": "python",
   "nbconvert_exporter": "python",
   "pygments_lexer": "ipython3",
   "version": "3.6.5"
  }
 },
 "nbformat": 4,
 "nbformat_minor": 2
}
